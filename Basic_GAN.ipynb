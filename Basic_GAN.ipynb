{
  "nbformat": 4,
  "nbformat_minor": 0,
  "metadata": {
    "colab": {
      "provenance": [],
      "authorship_tag": "ABX9TyOfPj5iT8bWXBrr4sooUuMP",
      "include_colab_link": true
    },
    "kernelspec": {
      "name": "python3",
      "display_name": "Python 3"
    },
    "language_info": {
      "name": "python"
    }
  },
  "cells": [
    {
      "cell_type": "markdown",
      "metadata": {
        "id": "view-in-github",
        "colab_type": "text"
      },
      "source": [
        "<a href=\"https://colab.research.google.com/github/parthdasawant/GAN/blob/main/Basic_GAN.ipynb\" target=\"_parent\"><img src=\"https://colab.research.google.com/assets/colab-badge.svg\" alt=\"Open In Colab\"/></a>"
      ]
    },
    {
      "cell_type": "code",
      "execution_count": 2,
      "metadata": {
        "id": "4aPKZADyih7K"
      },
      "outputs": [],
      "source": [
        "# Import the libraries\n",
        "import torch, pdb\n",
        "from torch.utils.data import DataLoader\n",
        "from torch import nn\n",
        "from torchvision import transforms\n",
        "from torchvision.datasets import MNIST\n",
        "from torchvision.utils import make_grid\n",
        "from tqdm.auto import tqdm\n",
        "import matplotlib.pyplot as plt"
      ]
    },
    {
      "cell_type": "code",
      "source": [
        "# visualization function\n",
        "def show(tensor, ch=1, size=(28,28), num=16):\n",
        "  # tensor: 128 x 784\n",
        "  data = tensor.detach().cpu().view(-1,ch,*size) # 128 x 1 x 28 x 28\n",
        "  grid = make_grid(data[:num], nrows=4).permute(1,2,0) # 1 x 28 x 28\n",
        "  plt.imshow(grid)\n",
        "  plt.show()"
      ],
      "metadata": {
        "id": "dDkCQ_lYjfoK"
      },
      "execution_count": 4,
      "outputs": []
    },
    {
      "cell_type": "code",
      "source": [
        "# Setup of the main parameters and hyperparameter\n",
        "epochs = 500\n",
        "cur_step = 0\n",
        "info_step = 300\n",
        "mean_gen_loss = 0\n",
        "mean_disc_loss = 0\n",
        "\n",
        "z_dim = 64\n",
        "lr = 0.00001\n",
        "loss_func = nn.BCEWithLogitsLoss()\n",
        "\n",
        "bs = 128\n",
        "device = 'cuda'\n",
        "\n",
        "dataloader = DataLoader(MNIST('.', download = True, transform=transforms.ToTensor()), shuffle=True, batch_size=bs)"
      ],
      "metadata": {
        "colab": {
          "base_uri": "https://localhost:8080/"
        },
        "id": "TP6Oz5Aj-BM1",
        "outputId": "3fd6982b-7743-41cb-84e5-1a162d8065c2"
      },
      "execution_count": 5,
      "outputs": [
        {
          "output_type": "stream",
          "name": "stdout",
          "text": [
            "Downloading http://yann.lecun.com/exdb/mnist/train-images-idx3-ubyte.gz\n",
            "Downloading http://yann.lecun.com/exdb/mnist/train-images-idx3-ubyte.gz to ./MNIST/raw/train-images-idx3-ubyte.gz\n"
          ]
        },
        {
          "output_type": "stream",
          "name": "stderr",
          "text": [
            "100%|██████████| 9912422/9912422 [00:00<00:00, 112025261.48it/s]\n"
          ]
        },
        {
          "output_type": "stream",
          "name": "stdout",
          "text": [
            "Extracting ./MNIST/raw/train-images-idx3-ubyte.gz to ./MNIST/raw\n",
            "\n",
            "Downloading http://yann.lecun.com/exdb/mnist/train-labels-idx1-ubyte.gz\n",
            "Downloading http://yann.lecun.com/exdb/mnist/train-labels-idx1-ubyte.gz to ./MNIST/raw/train-labels-idx1-ubyte.gz\n"
          ]
        },
        {
          "output_type": "stream",
          "name": "stderr",
          "text": [
            "100%|██████████| 28881/28881 [00:00<00:00, 31004784.70it/s]\n"
          ]
        },
        {
          "output_type": "stream",
          "name": "stdout",
          "text": [
            "Extracting ./MNIST/raw/train-labels-idx1-ubyte.gz to ./MNIST/raw\n",
            "\n",
            "Downloading http://yann.lecun.com/exdb/mnist/t10k-images-idx3-ubyte.gz\n",
            "Downloading http://yann.lecun.com/exdb/mnist/t10k-images-idx3-ubyte.gz to ./MNIST/raw/t10k-images-idx3-ubyte.gz\n"
          ]
        },
        {
          "output_type": "stream",
          "name": "stderr",
          "text": [
            "100%|██████████| 1648877/1648877 [00:00<00:00, 26078316.86it/s]\n"
          ]
        },
        {
          "output_type": "stream",
          "name": "stdout",
          "text": [
            "Extracting ./MNIST/raw/t10k-images-idx3-ubyte.gz to ./MNIST/raw\n",
            "\n",
            "Downloading http://yann.lecun.com/exdb/mnist/t10k-labels-idx1-ubyte.gz\n",
            "Downloading http://yann.lecun.com/exdb/mnist/t10k-labels-idx1-ubyte.gz to ./MNIST/raw/t10k-labels-idx1-ubyte.gz\n"
          ]
        },
        {
          "output_type": "stream",
          "name": "stderr",
          "text": [
            "100%|██████████| 4542/4542 [00:00<00:00, 13854930.01it/s]\n"
          ]
        },
        {
          "output_type": "stream",
          "name": "stdout",
          "text": [
            "Extracting ./MNIST/raw/t10k-labels-idx1-ubyte.gz to ./MNIST/raw\n",
            "\n"
          ]
        }
      ]
    },
    {
      "cell_type": "code",
      "source": [
        "# Declare models\n",
        "# Generator\n",
        "\n",
        "def genBlock(inp, out):\n",
        "  return nn.Sequential(\n",
        "      nn.Linear(inp, out),\n",
        "      nn.BatchNorm1d(out),\n",
        "      nn.ReLU(inplace=True)\n",
        "  )\n",
        "\n",
        "class Generator(nn.Module):\n",
        "  def __init__(self, z_dim=64, i_dim=784, h_dim=128):\n",
        "    super().__init__()\n",
        "    self.gen = nn.Sequential(\n",
        "        genBlock(z_dim, h_dim), # 64, 128\n",
        "        genBlock(h_dim, h_dim*2),\n",
        "        genBlock(h_dim*2, h_dim*4),\n",
        "        genBlock(h_dim*4, h_dim*8),\n",
        "        genBlock(h_dim*8, i_dim), # 1024, 784\n",
        "        nn.Sigmoid(),\n",
        "    )\n",
        "\n",
        "    def forward(self, noise):\n",
        "      return self.gen(noise)\n",
        "\n",
        "def gen_noise(number, z_dim):\n",
        "  return torch.randn(number, z_dim).to(device)\n",
        "\n",
        "# Discriminator\n",
        "\n",
        "def discBlock(inp, out):\n",
        "  return nn.Sequential(\n",
        "      nn.Linear(inp, out),\n",
        "      nn.LeakyRelu(0.2)\n",
        "  )\n",
        "class Discriminator(nn.Module):\n",
        "  def __init__(self, i_dim =784, h_dim=256):\n",
        "    super().__init__()\n",
        "    self.disc=nn.Sequential(\n",
        "        discBlock(i_dim, h_dim*2), # 784, 1024\n",
        "        discBlock(h_dim*4, h_dim*2),\n",
        "        discBlock(h_dim*2, h_dim),\n",
        "        nn.Linear(h_dim, 1) # 256, 1\n",
        "    )\n",
        "\n",
        "    def forward(self, image):\n",
        "      return self.disc(image)"
      ],
      "metadata": {
        "id": "bI4rZ967ABJ_"
      },
      "execution_count": 6,
      "outputs": []
    },
    {
      "cell_type": "code",
      "source": [
        "gen"
      ],
      "metadata": {
        "id": "HcBmGXShE6qh"
      },
      "execution_count": null,
      "outputs": []
    }
  ]
}